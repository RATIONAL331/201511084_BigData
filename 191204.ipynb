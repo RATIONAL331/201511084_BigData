{
 "cells": [
  {
   "cell_type": "code",
   "execution_count": 1,
   "metadata": {},
   "outputs": [],
   "source": [
    "import os\n",
    "import sys\n",
    "\n",
    "home=os.path.expanduser(\"~\")\n",
    "os.environ[\"SPARK_HOME\"]=os.path.join(home, 'spark-2.0.0-bin-hadoop2.7')\n",
    "os.environ[\"PYLIB\"]=os.path.join(os.environ[\"SPARK_HOME\"],'python','lib')\n",
    "sys.path.insert(0,os.path.join(os.environ[\"PYLIB\"],'py4j-0.10.1-src.zip'))\n",
    "sys.path.insert(0,os.path.join(os.environ[\"PYLIB\"],'pyspark.zip'))"
   ]
  },
  {
   "cell_type": "code",
   "execution_count": 2,
   "metadata": {},
   "outputs": [],
   "source": [
    "import pyspark\n",
    "myConf=pyspark.SparkConf()\n",
    "spark = pyspark.sql.SparkSession.builder.master(\"local\").appName(\"myApp\").config(conf=myConf).getOrCreate()"
   ]
  },
  {
   "cell_type": "markdown",
   "metadata": {},
   "source": [
    "# 로지스틱 회귀분석\n",
    "* logit(p) = log(p/1−p)\n",
    "* Odds는 p/1−p"
   ]
  },
  {
   "cell_type": "code",
   "execution_count": 4,
   "metadata": {},
   "outputs": [
    {
     "name": "stderr",
     "output_type": "stream",
     "text": [
      "/usr/local/lib/python2.7/dist-packages/ipykernel_launcher.py:16: RuntimeWarning: invalid value encountered in log\n",
      "  app.launch_new_instance()\n"
     ]
    },
    {
     "data": {
      "image/png": "[encoded data removed]",
      "text/plain": [
       "<Figure size 432x288 with 4 Axes>"
      ]
     },
     "metadata": {
      "needs_background": "light"
     },
     "output_type": "display_data"
    }
   ],
   "source": [
    "%matplotlib inline\n",
    "import matplotlib.pyplot as plt\n",
    "import numpy as np\n",
    "\n",
    "x=np.arange(-5,5,0.05)\n",
    "fig=plt.figure()\n",
    "\n",
    "ax221=fig.add_subplot(221)\n",
    "ax221.set_title('exponental')\n",
    "exp=np.exp(x)\n",
    "ax221.plot(x,exp,'-')\n",
    "ax221.set_ylabel('y')\n",
    "\n",
    "ax222=fig.add_subplot(222)\n",
    "ax222.set_title('log')\n",
    "log=np.log(x)\n",
    "ax222.plot(x,log,'-')\n",
    "ax222.set_ylabel('y')\n",
    "\n",
    "ax223=fig.add_subplot(223)\n",
    "ax223.set_title('sigmoid')\n",
    "sigmoid=lambda(x):1.0/(1+np.exp(-x))\n",
    "sig=sigmoid(x)\n",
    "ax223.plot(x,sig,'-')\n",
    "ax223.set_ylabel('probability')\n",
    "\n",
    "\n",
    "ax224=fig.add_subplot(224)\n",
    "ax224.set_title('odds')\n",
    "x=np.arange(-2,1,0.05)  # when x=1, division by zero\n",
    "odds=lambda(x):x/(1-x)\n",
    "odd=odds(x)\n",
    "ax224.plot(x,odd,'-')\n",
    "ax224.set_ylabel('odds')\n",
    "\n",
    "plt.show()"
   ]
  },
  {
   "cell_type": "markdown",
   "metadata": {},
   "source": [
    "# ln(p/1−p)=w0+w1x 풀기\n",
    "* p=1/1+e^−(w0+w1x)\n",
    "\n",
    "* 확률 p≥0.5 -> Y=1\n",
    "* 확률 p<0.5 -> Y=0"
   ]
  },
  {
   "cell_type": "code",
   "execution_count": 11,
   "metadata": {},
   "outputs": [
    {
     "name": "stdout",
     "output_type": "stream",
     "text": [
      "[0.5  0.75 1.   1.25 1.5  1.75 1.75 2.   2.25 2.5  2.75 3.   3.25 3.5\n",
      " 4.   4.25 4.5  4.75 5.   5.5 ]\n"
     ]
    }
   ],
   "source": [
    "import numpy as np\n",
    "x=np.array([0.50,0.75,1.00,1.25,1.50,1.75,1.75,2.00,2.25,2.50,2.75,3.00,3.25,3.50,4.00,4.25,4.50,4.75,5.00,5.50])\n",
    "y=np.array([0,0,0,0,0,0,1,0,1,0,1,0,1,0,1,1,1,1,1,1])\n",
    "print x"
   ]
  },
  {
   "cell_type": "code",
   "execution_count": 12,
   "metadata": {},
   "outputs": [
    {
     "name": "stdout",
     "output_type": "stream",
     "text": [
      "[[0.5  1.  ]\n",
      " [0.75 1.  ]\n",
      " [1.   1.  ]\n",
      " [1.25 1.  ]\n",
      " [1.5  1.  ]\n",
      " [1.75 1.  ]\n",
      " [1.75 1.  ]\n",
      " [2.   1.  ]\n",
      " [2.25 1.  ]\n",
      " [2.5  1.  ]\n",
      " [2.75 1.  ]\n",
      " [3.   1.  ]\n",
      " [3.25 1.  ]\n",
      " [3.5  1.  ]\n",
      " [4.   1.  ]\n",
      " [4.25 1.  ]\n",
      " [4.5  1.  ]\n",
      " [4.75 1.  ]\n",
      " [5.   1.  ]\n",
      " [5.5  1.  ]]\n"
     ]
    }
   ],
   "source": [
    "x=np.array([x,np.ones(x.shape[0])])\n",
    "x=x.T\n",
    "print x"
   ]
  },
  {
   "cell_type": "code",
   "execution_count": 16,
   "metadata": {},
   "outputs": [
    {
     "name": "stdout",
     "output_type": "stream",
     "text": [
      "Optimization terminated successfully.\n",
      "         Current function value: 0.401494\n",
      "         Iterations 7\n",
      "1.504645428373334 -4.077713431087632\n"
     ]
    }
   ],
   "source": [
    "import statsmodels.api as sm\n",
    "logit = sm.Logit(y,x)\n",
    "result = logit.fit()\n",
    "w1,w0=result.params\n",
    "print w1,w0"
   ]
  },
  {
   "cell_type": "code",
   "execution_count": 17,
   "metadata": {},
   "outputs": [
    {
     "data": {
      "image/png": "[encoded data removed]",
      "text/plain": [
       "<Figure size 432x288 with 1 Axes>"
      ]
     },
     "metadata": {
      "needs_background": "light"
     },
     "output_type": "display_data"
    }
   ],
   "source": [
    "import matplotlib.pyplot as plt\n",
    "\n",
    "plt.plot(x, y, 'go')\n",
    "plt.plot(x,w0+w1*x,'b-')\n",
    "plt.plot(x,1/(1+np.exp(-(w0+w1*x))),'r-')\n",
    "plt.show()"
   ]
  },
  {
   "cell_type": "markdown",
   "metadata": {},
   "source": [
    "# Gradient\n",
    "* cost=\n",
    "* −log(h(x)) if y=1\n",
    "* −log(1−h(x)) if y=0"
   ]
  },
  {
   "cell_type": "code",
   "execution_count": 33,
   "metadata": {},
   "outputs": [
    {
     "name": "stdout",
     "output_type": "stream",
     "text": [
      "[[0.5  1.  ]\n",
      " [0.75 1.  ]\n",
      " [1.   1.  ]\n",
      " [1.25 1.  ]\n",
      " [1.5  1.  ]]\n",
      "[0 0 0 0 0]\n"
     ]
    }
   ],
   "source": [
    "x1=x\n",
    "y1=y\n",
    "print x1[:5]\n",
    "print y1[:5]"
   ]
  },
  {
   "cell_type": "code",
   "execution_count": 34,
   "metadata": {},
   "outputs": [],
   "source": [
    "def h(x,theta):\n",
    "    z=np.dot(x,theta)\n",
    "    return sigmoid(z)"
   ]
  },
  {
   "cell_type": "code",
   "execution_count": 35,
   "metadata": {},
   "outputs": [
    {
     "name": "stdout",
     "output_type": "stream",
     "text": [
      "(20, 2)\n",
      "[[1.]\n",
      " [1.]] (2, 1)\n"
     ]
    }
   ],
   "source": [
    "print x1.shape\n",
    "weights=np.ones([x1.shape[1],1])\n",
    "print weights,weights.shape"
   ]
  },
  {
   "cell_type": "code",
   "execution_count": 36,
   "metadata": {},
   "outputs": [
    {
     "data": {
      "text/plain": [
       "array([[0.81757448],\n",
       "       [0.8519528 ],\n",
       "       [0.88079708],\n",
       "       [0.90465054],\n",
       "       [0.92414182]])"
      ]
     },
     "execution_count": 36,
     "metadata": {},
     "output_type": "execute_result"
    }
   ],
   "source": [
    "h(x1[:5],weights)"
   ]
  },
  {
   "cell_type": "code",
   "execution_count": 37,
   "metadata": {},
   "outputs": [
    {
     "name": "stdout",
     "output_type": "stream",
     "text": [
      "1.4373882978982158\n"
     ]
    },
    {
     "data": {
      "text/plain": [
       "array([[16.42888382],\n",
       "       [ 9.05573467]])"
      ]
     },
     "execution_count": 37,
     "metadata": {},
     "output_type": "execute_result"
    }
   ],
   "source": [
    "y1=y1[:,np.newaxis]\n",
    "def loss(h, y):\n",
    "    return (-y * np.log(h) - (1 - y) * np.log(1 - h)).mean()\n",
    "print loss(h(x1,weights),y1)\n",
    "error=h(x1,weights)-y1\n",
    "np.dot(x1.T,error)"
   ]
  },
  {
   "cell_type": "code",
   "execution_count": 38,
   "metadata": {},
   "outputs": [
    {
     "data": {
      "text/plain": [
       "array([[0.82144419],\n",
       "       [0.45278673]])"
      ]
     },
     "execution_count": 38,
     "metadata": {},
     "output_type": "execute_result"
    }
   ],
   "source": [
    "def gradientDescent(x, h, y):\n",
    "    return np.dot(x.T, (h - y)) / y.shape[0]\n",
    "gradientDescent(x1,h(x1,weights),y1)"
   ]
  },
  {
   "cell_type": "code",
   "execution_count": 39,
   "metadata": {},
   "outputs": [
    {
     "name": "stdout",
     "output_type": "stream",
     "text": [
      "0 theta:[[0.83571116]\n",
      " [0.90944265]]\n",
      "1000 theta:[[ 1.46445514]\n",
      " [-3.95885309]]\n",
      "2000 theta:[[ 1.50248787]\n",
      " [-4.07133946]]\n",
      "3000 theta:[[ 1.50452706]\n",
      " [-4.07736375]]\n",
      "4000 theta:[[ 1.50463893]\n",
      " [-4.07769422]]\n",
      "5000 theta:[[ 1.50464507]\n",
      " [-4.07771238]]\n",
      "6000 theta:[[ 1.50464541]\n",
      " [-4.07771337]]\n",
      "7000 theta:[[ 1.50464543]\n",
      " [-4.07771343]]\n",
      "8000 theta:[[ 1.50464543]\n",
      " [-4.07771343]]\n",
      "9000 theta:[[ 1.50464543]\n",
      " [-4.07771343]]\n",
      "[[ 1.50464543]\n",
      " [-4.07771343]]\n"
     ]
    }
   ],
   "source": [
    "iter=10000\n",
    "alpha=0.01\n",
    "\n",
    "weights=np.ones([x1.shape[1],1])\n",
    "\n",
    "for i in range(iter):\n",
    "    _h=h(x1,weights)\n",
    "    error=_h-y1\n",
    "    gradient=np.dot(x1.T, error)\n",
    "    weights-=alpha*gradient\n",
    "    if i%1000==0:\n",
    "        print \"{0} theta:{1}\".format(i,weights)\n",
    "print weights"
   ]
  },
  {
   "cell_type": "markdown",
   "metadata": {},
   "source": [
    "# 입학"
   ]
  },
  {
   "cell_type": "code",
   "execution_count": 43,
   "metadata": {},
   "outputs": [],
   "source": [
    "import pandas as pd\n",
    "df = pd.read_csv(\"https://stats.idre.ucla.edu/stat/data/binary.csv\")\n",
    "df.head()\n",
    "df.columns = [\"admit\", \"gre\", \"gpa\", \"prestige\"]"
   ]
  },
  {
   "cell_type": "code",
   "execution_count": 44,
   "metadata": {},
   "outputs": [
    {
     "name": "stdout",
     "output_type": "stream",
     "text": [
      "prestige   1   2   3   4\n",
      "admit                   \n",
      "0         28  97  93  55\n",
      "1         33  54  28  12\n"
     ]
    }
   ],
   "source": [
    "print pd.crosstab(df['admit'], df['prestige'], rownames=['admit'])"
   ]
  },
  {
   "cell_type": "code",
   "execution_count": 45,
   "metadata": {},
   "outputs": [
    {
     "data": {
      "image/png": "[encoded data removed]",
      "text/plain": [
       "<Figure size 432x288 with 4 Axes>"
      ]
     },
     "metadata": {
      "needs_background": "light"
     },
     "output_type": "display_data"
    }
   ],
   "source": [
    "%matplotlib inline\n",
    "import pylab as pl\n",
    "df.hist()\n",
    "pl.show()"
   ]
  },
  {
   "cell_type": "markdown",
   "metadata": {},
   "source": [
    "## 모델링"
   ]
  },
  {
   "cell_type": "code",
   "execution_count": 46,
   "metadata": {},
   "outputs": [],
   "source": [
    "from patsy import dmatrices\n",
    "y, X = dmatrices('admit ~ gre + gpa + C(prestige)', df, return_type = 'dataframe')"
   ]
  },
  {
   "cell_type": "code",
   "execution_count": 47,
   "metadata": {},
   "outputs": [
    {
     "data": {
      "text/html": [
       "<div>\n",
       "<style scoped>\n",
       "    .dataframe tbody tr th:only-of-type {\n",
       "        vertical-align: middle;\n",
       "    }\n",
       "\n",
       "    .dataframe tbody tr th {\n",
       "        vertical-align: top;\n",
       "    }\n",
       "\n",
       "    .dataframe thead th {\n",
       "        text-align: right;\n",
       "    }\n",
       "</style>\n",
       "<table border=\"1\" class=\"dataframe\">\n",
       "  <thead>\n",
       "    <tr style=\"text-align: right;\">\n",
       "      <th></th>\n",
       "      <th>Intercept</th>\n",
       "      <th>C(prestige)[T.2]</th>\n",
       "      <th>C(prestige)[T.3]</th>\n",
       "      <th>C(prestige)[T.4]</th>\n",
       "      <th>gre</th>\n",
       "      <th>gpa</th>\n",
       "    </tr>\n",
       "  </thead>\n",
       "  <tbody>\n",
       "    <tr>\n",
       "      <th>0</th>\n",
       "      <td>1.0</td>\n",
       "      <td>0.0</td>\n",
       "      <td>1.0</td>\n",
       "      <td>0.0</td>\n",
       "      <td>380.0</td>\n",
       "      <td>3.61</td>\n",
       "    </tr>\n",
       "    <tr>\n",
       "      <th>1</th>\n",
       "      <td>1.0</td>\n",
       "      <td>0.0</td>\n",
       "      <td>1.0</td>\n",
       "      <td>0.0</td>\n",
       "      <td>660.0</td>\n",
       "      <td>3.67</td>\n",
       "    </tr>\n",
       "    <tr>\n",
       "      <th>2</th>\n",
       "      <td>1.0</td>\n",
       "      <td>0.0</td>\n",
       "      <td>0.0</td>\n",
       "      <td>0.0</td>\n",
       "      <td>800.0</td>\n",
       "      <td>4.00</td>\n",
       "    </tr>\n",
       "    <tr>\n",
       "      <th>3</th>\n",
       "      <td>1.0</td>\n",
       "      <td>0.0</td>\n",
       "      <td>0.0</td>\n",
       "      <td>1.0</td>\n",
       "      <td>640.0</td>\n",
       "      <td>3.19</td>\n",
       "    </tr>\n",
       "    <tr>\n",
       "      <th>4</th>\n",
       "      <td>1.0</td>\n",
       "      <td>0.0</td>\n",
       "      <td>0.0</td>\n",
       "      <td>1.0</td>\n",
       "      <td>520.0</td>\n",
       "      <td>2.93</td>\n",
       "    </tr>\n",
       "  </tbody>\n",
       "</table>\n",
       "</div>"
      ],
      "text/plain": [
       "   Intercept  C(prestige)[T.2]  C(prestige)[T.3]  C(prestige)[T.4]    gre  \\\n",
       "0        1.0               0.0               1.0               0.0  380.0   \n",
       "1        1.0               0.0               1.0               0.0  660.0   \n",
       "2        1.0               0.0               0.0               0.0  800.0   \n",
       "3        1.0               0.0               0.0               1.0  640.0   \n",
       "4        1.0               0.0               0.0               1.0  520.0   \n",
       "\n",
       "    gpa  \n",
       "0  3.61  \n",
       "1  3.67  \n",
       "2  4.00  \n",
       "3  3.19  \n",
       "4  2.93  "
      ]
     },
     "execution_count": 47,
     "metadata": {},
     "output_type": "execute_result"
    }
   ],
   "source": [
    "X.head()"
   ]
  },
  {
   "cell_type": "code",
   "execution_count": 48,
   "metadata": {},
   "outputs": [
    {
     "name": "stdout",
     "output_type": "stream",
     "text": [
      "Optimization terminated successfully.\n",
      "         Current function value: 0.573147\n",
      "         Iterations 6\n",
      "                           Logit Regression Results                           \n",
      "==============================================================================\n",
      "Dep. Variable:                  admit   No. Observations:                  400\n",
      "Model:                          Logit   Df Residuals:                      394\n",
      "Method:                           MLE   Df Model:                            5\n",
      "Date:                Wed, 04 Dec 2019   Pseudo R-squ.:                 0.08292\n",
      "Time:                        16:32:37   Log-Likelihood:                -229.26\n",
      "converged:                       True   LL-Null:                       -249.99\n",
      "Covariance Type:            nonrobust   LLR p-value:                 7.578e-08\n",
      "====================================================================================\n",
      "                       coef    std err          z      P>|z|      [0.025      0.975]\n",
      "------------------------------------------------------------------------------------\n",
      "Intercept           -3.9900      1.140     -3.500      0.000      -6.224      -1.756\n",
      "C(prestige)[T.2]    -0.6754      0.316     -2.134      0.033      -1.296      -0.055\n",
      "C(prestige)[T.3]    -1.3402      0.345     -3.881      0.000      -2.017      -0.663\n",
      "C(prestige)[T.4]    -1.5515      0.418     -3.713      0.000      -2.370      -0.733\n",
      "gre                  0.0023      0.001      2.070      0.038       0.000       0.004\n",
      "gpa                  0.8040      0.332      2.423      0.015       0.154       1.454\n",
      "====================================================================================\n"
     ]
    }
   ],
   "source": [
    "import statsmodels.discrete.discrete_model as sm\n",
    "\n",
    "logit = sm.Logit(y,X)\n",
    "result = logit.fit()\n",
    "print result.summary()"
   ]
  },
  {
   "cell_type": "code",
   "execution_count": 49,
   "metadata": {},
   "outputs": [
    {
     "name": "stderr",
     "output_type": "stream",
     "text": [
      "/usr/local/lib/python2.7/dist-packages/sklearn/linear_model/logistic.py:433: FutureWarning: Default solver will be changed to 'lbfgs' in 0.22. Specify a solver to silence this warning.\n",
      "  FutureWarning)\n",
      "/usr/local/lib/python2.7/dist-packages/sklearn/utils/validation.py:761: DataConversionWarning: A column-vector y was passed when a 1d array was expected. Please change the shape of y to (n_samples, ), for example using ravel().\n",
      "  y = column_or_1d(y, warn=True)\n"
     ]
    },
    {
     "data": {
      "text/plain": [
       "array([[-3.97765654e+00, -6.74567838e-01, -1.33708167e+00,\n",
       "        -1.55029740e+00,  2.25513643e-03,  8.01765501e-01]])"
      ]
     },
     "execution_count": 49,
     "metadata": {},
     "output_type": "execute_result"
    }
   ],
   "source": [
    "from sklearn.linear_model import LogisticRegression\n",
    "model = LogisticRegression(fit_intercept = False, C = 1e9)\n",
    "mdl = model.fit(X, y)\n",
    "model.coef_"
   ]
  },
  {
   "cell_type": "markdown",
   "metadata": {},
   "source": [
    "# 성별"
   ]
  },
  {
   "cell_type": "code",
   "execution_count": 53,
   "metadata": {},
   "outputs": [],
   "source": [
    "import statsmodels.api as sm\n",
    "mass=sm.datasets.get_rdataset(\"survey\",\"MASS\")"
   ]
  },
  {
   "cell_type": "code",
   "execution_count": 54,
   "metadata": {},
   "outputs": [
    {
     "data": {
      "text/html": [
       "<div>\n",
       "<style scoped>\n",
       "    .dataframe tbody tr th:only-of-type {\n",
       "        vertical-align: middle;\n",
       "    }\n",
       "\n",
       "    .dataframe tbody tr th {\n",
       "        vertical-align: top;\n",
       "    }\n",
       "\n",
       "    .dataframe thead th {\n",
       "        text-align: right;\n",
       "    }\n",
       "</style>\n",
       "<table border=\"1\" class=\"dataframe\">\n",
       "  <thead>\n",
       "    <tr style=\"text-align: right;\">\n",
       "      <th></th>\n",
       "      <th>Sex</th>\n",
       "      <th>Wr.Hnd</th>\n",
       "      <th>NW.Hnd</th>\n",
       "      <th>W.Hnd</th>\n",
       "      <th>Fold</th>\n",
       "      <th>Pulse</th>\n",
       "      <th>Clap</th>\n",
       "      <th>Exer</th>\n",
       "      <th>Smoke</th>\n",
       "      <th>Height</th>\n",
       "      <th>M.I</th>\n",
       "      <th>Age</th>\n",
       "    </tr>\n",
       "  </thead>\n",
       "  <tbody>\n",
       "    <tr>\n",
       "      <th>0</th>\n",
       "      <td>Female</td>\n",
       "      <td>18.5</td>\n",
       "      <td>18.0</td>\n",
       "      <td>Right</td>\n",
       "      <td>R on L</td>\n",
       "      <td>92.0</td>\n",
       "      <td>Left</td>\n",
       "      <td>Some</td>\n",
       "      <td>Never</td>\n",
       "      <td>173.0</td>\n",
       "      <td>Metric</td>\n",
       "      <td>18.250</td>\n",
       "    </tr>\n",
       "    <tr>\n",
       "      <th>1</th>\n",
       "      <td>Male</td>\n",
       "      <td>19.5</td>\n",
       "      <td>20.5</td>\n",
       "      <td>Left</td>\n",
       "      <td>R on L</td>\n",
       "      <td>104.0</td>\n",
       "      <td>Left</td>\n",
       "      <td>None</td>\n",
       "      <td>Regul</td>\n",
       "      <td>177.8</td>\n",
       "      <td>Imperial</td>\n",
       "      <td>17.583</td>\n",
       "    </tr>\n",
       "    <tr>\n",
       "      <th>2</th>\n",
       "      <td>Male</td>\n",
       "      <td>18.0</td>\n",
       "      <td>13.3</td>\n",
       "      <td>Right</td>\n",
       "      <td>L on R</td>\n",
       "      <td>87.0</td>\n",
       "      <td>Neither</td>\n",
       "      <td>None</td>\n",
       "      <td>Occas</td>\n",
       "      <td>NaN</td>\n",
       "      <td>NaN</td>\n",
       "      <td>16.917</td>\n",
       "    </tr>\n",
       "    <tr>\n",
       "      <th>3</th>\n",
       "      <td>Male</td>\n",
       "      <td>18.8</td>\n",
       "      <td>18.9</td>\n",
       "      <td>Right</td>\n",
       "      <td>R on L</td>\n",
       "      <td>NaN</td>\n",
       "      <td>Neither</td>\n",
       "      <td>None</td>\n",
       "      <td>Never</td>\n",
       "      <td>160.0</td>\n",
       "      <td>Metric</td>\n",
       "      <td>20.333</td>\n",
       "    </tr>\n",
       "    <tr>\n",
       "      <th>4</th>\n",
       "      <td>Male</td>\n",
       "      <td>20.0</td>\n",
       "      <td>20.0</td>\n",
       "      <td>Right</td>\n",
       "      <td>Neither</td>\n",
       "      <td>35.0</td>\n",
       "      <td>Right</td>\n",
       "      <td>Some</td>\n",
       "      <td>Never</td>\n",
       "      <td>165.0</td>\n",
       "      <td>Metric</td>\n",
       "      <td>23.667</td>\n",
       "    </tr>\n",
       "  </tbody>\n",
       "</table>\n",
       "</div>"
      ],
      "text/plain": [
       "      Sex  Wr.Hnd  NW.Hnd  W.Hnd     Fold  Pulse     Clap  Exer  Smoke  \\\n",
       "0  Female    18.5    18.0  Right   R on L   92.0     Left  Some  Never   \n",
       "1    Male    19.5    20.5   Left   R on L  104.0     Left  None  Regul   \n",
       "2    Male    18.0    13.3  Right   L on R   87.0  Neither  None  Occas   \n",
       "3    Male    18.8    18.9  Right   R on L    NaN  Neither  None  Never   \n",
       "4    Male    20.0    20.0  Right  Neither   35.0    Right  Some  Never   \n",
       "\n",
       "   Height       M.I     Age  \n",
       "0   173.0    Metric  18.250  \n",
       "1   177.8  Imperial  17.583  \n",
       "2     NaN       NaN  16.917  \n",
       "3   160.0    Metric  20.333  \n",
       "4   165.0    Metric  23.667  "
      ]
     },
     "execution_count": 54,
     "metadata": {},
     "output_type": "execute_result"
    }
   ],
   "source": [
    "mass.data.head()"
   ]
  },
  {
   "cell_type": "code",
   "execution_count": 55,
   "metadata": {},
   "outputs": [],
   "source": [
    "mass.data.columns=['sex','wr','nw','w','fold','pulse','clap','exer','smoke','height','mi','age']"
   ]
  },
  {
   "cell_type": "markdown",
   "metadata": {},
   "source": [
    "# 로지스틱"
   ]
  },
  {
   "cell_type": "code",
   "execution_count": 59,
   "metadata": {},
   "outputs": [
    {
     "name": "stdout",
     "output_type": "stream",
     "text": [
      "                      Generalized Linear Model Regression Results                       \n",
      "========================================================================================\n",
      "Dep. Variable:     ['sex[Female]', 'sex[Male]']   No. Observations:                  168\n",
      "Model:                                      GLM   Df Residuals:                      161\n",
      "Model Family:                          Binomial   Df Model:                            6\n",
      "Link Function:                            logit   Scale:                          1.0000\n",
      "Method:                                    IRLS   Log-Likelihood:                -52.236\n",
      "Date:                          Wed, 04 Dec 2019   Deviance:                       104.47\n",
      "Time:                                  16:45:53   Pearson chi2:                     646.\n",
      "No. Iterations:                               6                                         \n",
      "Covariance Type:                      nonrobust                                         \n",
      "==============================================================================\n",
      "                 coef    std err          z      P>|z|      [0.025      0.975]\n",
      "------------------------------------------------------------------------------\n",
      "Intercept     49.5650      8.052      6.156      0.000      33.783      65.347\n",
      "w[T.Right]     0.0766      1.112      0.069      0.945      -2.104       2.257\n",
      "wr             0.7649      0.591      1.295      0.195      -0.393       1.923\n",
      "nw            -1.5121      0.619     -2.442      0.015      -2.726      -0.298\n",
      "pulse          0.0100      0.022      0.461      0.645      -0.033       0.053\n",
      "height        -0.2123      0.045     -4.746      0.000      -0.300      -0.125\n",
      "age        -6.183e-05      0.044     -0.001      0.999      -0.087       0.087\n",
      "==============================================================================\n"
     ]
    }
   ],
   "source": [
    "formula='sex ~ wr+nw+w+pulse+height+age'\n",
    "import statsmodels.formula.api as smf\n",
    "model=smf.glm(formula,data=mass.data,family=sm.families.Binomial()).fit()\n",
    "print (model.summary())"
   ]
  },
  {
   "cell_type": "code",
   "execution_count": 60,
   "metadata": {},
   "outputs": [
    {
     "name": "stdout",
     "output_type": "stream",
     "text": [
      "                      Generalized Linear Model Regression Results                       \n",
      "========================================================================================\n",
      "Dep. Variable:     ['sex[Female]', 'sex[Male]']   No. Observations:                  207\n",
      "Model:                                      GLM   Df Residuals:                      204\n",
      "Model Family:                          Binomial   Df Model:                            2\n",
      "Link Function:                            logit   Scale:                          1.0000\n",
      "Method:                                    IRLS   Log-Likelihood:                -67.329\n",
      "Date:                          Wed, 04 Dec 2019   Deviance:                       134.66\n",
      "Time:                                  16:46:06   Pearson chi2:                     468.\n",
      "No. Iterations:                               6                                         \n",
      "Covariance Type:                      nonrobust                                         \n",
      "==============================================================================\n",
      "                 coef    std err          z      P>|z|      [0.025      0.975]\n",
      "------------------------------------------------------------------------------\n",
      "Intercept     49.1014      6.919      7.097      0.000      35.541      62.662\n",
      "nw            -0.8189      0.188     -4.358      0.000      -1.187      -0.451\n",
      "height        -0.1977      0.038     -5.241      0.000      -0.272      -0.124\n",
      "==============================================================================\n"
     ]
    }
   ],
   "source": [
    "formula2='sex ~ nw+height'\n",
    "model2=smf.glm(formula2,data=mass.data,family=sm.families.Binomial()).fit()\n",
    "print (model2.summary())"
   ]
  },
  {
   "cell_type": "code",
   "execution_count": 61,
   "metadata": {},
   "outputs": [
    {
     "name": "stdout",
     "output_type": "stream",
     "text": [
      "                            OLS Regression Results                            \n",
      "==============================================================================\n",
      "Dep. Variable:                 height   R-squared:                       0.445\n",
      "Model:                            OLS   Adj. R-squared:                  0.442\n",
      "Method:                 Least Squares   F-statistic:                     165.1\n",
      "Date:                Wed, 04 Dec 2019   Prob (F-statistic):           3.86e-28\n",
      "Time:                        16:46:24   Log-Likelihood:                -709.66\n",
      "No. Observations:                 208   AIC:                             1423.\n",
      "Df Residuals:                     206   BIC:                             1430.\n",
      "Df Model:                           1                                         \n",
      "Covariance Type:            nonrobust                                         \n",
      "===============================================================================\n",
      "                  coef    std err          t      P>|t|      [0.025      0.975]\n",
      "-------------------------------------------------------------------------------\n",
      "Intercept     165.6867      0.730    226.978      0.000     164.248     167.126\n",
      "sex[T.Male]    13.1394      1.023     12.850      0.000      11.123      15.155\n",
      "==============================================================================\n",
      "Omnibus:                        2.703   Durbin-Watson:                   1.695\n",
      "Prob(Omnibus):                  0.259   Jarque-Bera (JB):                2.365\n",
      "Skew:                          -0.250   Prob(JB):                        0.306\n",
      "Kurtosis:                       3.153   Cond. No.                         2.64\n",
      "==============================================================================\n",
      "\n",
      "Warnings:\n",
      "[1] Standard Errors assume that the covariance matrix of the errors is correctly specified.\n"
     ]
    }
   ],
   "source": [
    "formula3='height ~ 1+sex'\n",
    "model3=smf.ols(formula3,data=mass.data).fit()\n",
    "print model3.summary()"
   ]
  },
  {
   "cell_type": "markdown",
   "metadata": {},
   "source": [
    "# Titanic"
   ]
  },
  {
   "cell_type": "code",
   "execution_count": 62,
   "metadata": {},
   "outputs": [],
   "source": [
    "import os\n",
    "_trainDf = spark.read.format('com.databricks.spark.csv')\\\n",
    "    .options(header='true', inferschema='true')\\\n",
    "    .load(os.path.join(\"data\",\"kaggle\",\"titanic\",\"train.csv\"))"
   ]
  },
  {
   "cell_type": "code",
   "execution_count": 63,
   "metadata": {},
   "outputs": [
    {
     "name": "stdout",
     "output_type": "stream",
     "text": [
      "+-----------+--------+------+--------------------+------+----+-----+-----+----------------+-------+-----+--------+\n",
      "|PassengerId|Survived|Pclass|                Name|   Sex| Age|SibSp|Parch|          Ticket|   Fare|Cabin|Embarked|\n",
      "+-----------+--------+------+--------------------+------+----+-----+-----+----------------+-------+-----+--------+\n",
      "|          1|       0|     3|Braund, Mr. Owen ...|  male|22.0|    1|    0|       A/5 21171|   7.25|     |       S|\n",
      "|          2|       1|     1|Cumings, Mrs. Joh...|female|38.0|    1|    0|        PC 17599|71.2833|  C85|       C|\n",
      "|          3|       1|     3|Heikkinen, Miss. ...|female|26.0|    0|    0|STON/O2. 3101282|  7.925|     |       S|\n",
      "+-----------+--------+------+--------------------+------+----+-----+-----+----------------+-------+-----+--------+\n",
      "only showing top 3 rows\n",
      "\n"
     ]
    }
   ],
   "source": [
    "_trainDf.show(3, truncate=True)"
   ]
  },
  {
   "cell_type": "code",
   "execution_count": 64,
   "metadata": {},
   "outputs": [],
   "source": [
    "_testDf = spark.read.format('com.databricks.spark.csv')\\\n",
    "    .options(header='true', inferschema='true')\\\n",
    "    .load(os.path.join(\"data\",\"kaggle\",\"titanic\",\"test.csv\"))"
   ]
  },
  {
   "cell_type": "code",
   "execution_count": 65,
   "metadata": {},
   "outputs": [
    {
     "name": "stdout",
     "output_type": "stream",
     "text": [
      "+-----------+------+--------------------+------+----+-----+-----+------+------+-----+--------+\n",
      "|PassengerId|Pclass|                Name|   Sex| Age|SibSp|Parch|Ticket|  Fare|Cabin|Embarked|\n",
      "+-----------+------+--------------------+------+----+-----+-----+------+------+-----+--------+\n",
      "|        892|     3|    Kelly, Mr. James|  male|34.5|    0|    0|330911|7.8292|     |       Q|\n",
      "|        893|     3|Wilkes, Mrs. Jame...|female|47.0|    1|    0|363272|   7.0|     |       S|\n",
      "|        894|     2|Myles, Mr. Thomas...|  male|62.0|    0|    0|240276|9.6875|     |       Q|\n",
      "+-----------+------+--------------------+------+----+-----+-----+------+------+-----+--------+\n",
      "only showing top 3 rows\n",
      "\n"
     ]
    }
   ],
   "source": [
    "_testDf.show(3, truncate=True)"
   ]
  },
  {
   "cell_type": "code",
   "execution_count": 66,
   "metadata": {},
   "outputs": [],
   "source": [
    "from pyspark.sql.functions import lit, col\n",
    "_trainDf = _trainDf.withColumn('testOrtrain',lit('train'))\n",
    "_testDf = _testDf.withColumn('testOrtrain',lit('test'))"
   ]
  },
  {
   "cell_type": "code",
   "execution_count": 67,
   "metadata": {},
   "outputs": [],
   "source": [
    "_testDf = _testDf.withColumn('Survived',lit(99))"
   ]
  },
  {
   "cell_type": "code",
   "execution_count": 68,
   "metadata": {},
   "outputs": [
    {
     "name": "stdout",
     "output_type": "stream",
     "text": [
      "root\n",
      " |-- PassengerId: integer (nullable = true)\n",
      " |-- Survived: integer (nullable = true)\n",
      " |-- Pclass: integer (nullable = true)\n",
      " |-- Name: string (nullable = true)\n",
      " |-- Sex: string (nullable = true)\n",
      " |-- Age: double (nullable = true)\n",
      " |-- SibSp: integer (nullable = true)\n",
      " |-- Parch: integer (nullable = true)\n",
      " |-- Ticket: string (nullable = true)\n",
      " |-- Fare: double (nullable = true)\n",
      " |-- Cabin: string (nullable = true)\n",
      " |-- Embarked: string (nullable = true)\n",
      " |-- testOrtrain: string (nullable = false)\n",
      "\n",
      "root\n",
      " |-- PassengerId: integer (nullable = true)\n",
      " |-- Pclass: integer (nullable = true)\n",
      " |-- Name: string (nullable = true)\n",
      " |-- Sex: string (nullable = true)\n",
      " |-- Age: double (nullable = true)\n",
      " |-- SibSp: integer (nullable = true)\n",
      " |-- Parch: integer (nullable = true)\n",
      " |-- Ticket: string (nullable = true)\n",
      " |-- Fare: double (nullable = true)\n",
      " |-- Cabin: string (nullable = true)\n",
      " |-- Embarked: string (nullable = true)\n",
      " |-- testOrtrain: string (nullable = false)\n",
      " |-- Survived: integer (nullable = false)\n",
      "\n"
     ]
    }
   ],
   "source": [
    "_trainDf.printSchema()\n",
    "_testDf.printSchema()"
   ]
  },
  {
   "cell_type": "code",
   "execution_count": 69,
   "metadata": {},
   "outputs": [],
   "source": [
    "df=_trainDf.select('PassengerId','Survived','Pclass','Name','Sex','Age',\\\n",
    "                   'SibSp','Parch','Ticket','Fare','Cabin','Embarked','testOrtrain')\\\n",
    "            .union(_testDf.select('PassengerId','Survived','Pclass','Name','Sex','Age',\\\n",
    "                   'SibSp','Parch','Ticket','Fare','Cabin','Embarked','testOrtrain'))"
   ]
  },
  {
   "cell_type": "code",
   "execution_count": 70,
   "metadata": {},
   "outputs": [
    {
     "name": "stdout",
     "output_type": "stream",
     "text": [
      "+-----------+--------+--------------------+\n",
      "|testOrtrain|Survived|                Name|\n",
      "+-----------+--------+--------------------+\n",
      "|       test|      99|    Kelly, Mr. James|\n",
      "|       test|      99|Wilkes, Mrs. Jame...|\n",
      "|       test|      99|Myles, Mr. Thomas...|\n",
      "|       test|      99|    Wirz, Mr. Albert|\n",
      "|       test|      99|Hirvonen, Mrs. Al...|\n",
      "|       test|      99|Svensson, Mr. Joh...|\n",
      "|       test|      99|Connolly, Miss. Kate|\n",
      "|       test|      99|Caldwell, Mr. Alb...|\n",
      "|       test|      99|Abrahim, Mrs. Jos...|\n",
      "|       test|      99|Davies, Mr. John ...|\n",
      "+-----------+--------+--------------------+\n",
      "only showing top 10 rows\n",
      "\n"
     ]
    }
   ],
   "source": [
    "df.select('testOrtrain','Survived','Name')\\\n",
    "    .filter(df['testOrtrain']=='test').show(10)"
   ]
  },
  {
   "cell_type": "code",
   "execution_count": 71,
   "metadata": {},
   "outputs": [
    {
     "name": "stdout",
     "output_type": "stream",
     "text": [
      "+-----------+--------+------+----+----+----+-----+-----+------+----+-----+--------+-----------+\n",
      "|PassengerId|Survived|Pclass|Name| Sex| Age|SibSp|Parch|Ticket|Fare|Cabin|Embarked|testOrtrain|\n",
      "+-----------+--------+------+----+----+----+-----+-----+------+----+-----+--------+-----------+\n",
      "|       1309|    1309|  1309|1309|1309|1046| 1309| 1309|  1309|1308| 1309|    1309|       1309|\n",
      "+-----------+--------+------+----+----+----+-----+-----+------+----+-----+--------+-----------+\n",
      "\n"
     ]
    }
   ],
   "source": [
    "from pyspark.sql.functions import count\n",
    "df.agg(*[count(c).alias(c) for c in df.columns]).show()"
   ]
  },
  {
   "cell_type": "code",
   "execution_count": 72,
   "metadata": {},
   "outputs": [
    {
     "name": "stdout",
     "output_type": "stream",
     "text": [
      "{'Fare': 1, 'Age': 263, 'SibSp': 0, 'Survived': 0, 'Parch': 0}\n"
     ]
    }
   ],
   "source": [
    "def countNull(df,var):\n",
    "    return df.where(df[var].isNull()).count()\n",
    "\n",
    "missing = {c: countNull(df,c) for c in ['Survived','Age','SibSp','Parch','Fare']}\n",
    "\n",
    "print missing"
   ]
  },
  {
   "cell_type": "code",
   "execution_count": 73,
   "metadata": {},
   "outputs": [
    {
     "name": "stdout",
     "output_type": "stream",
     "text": [
      "+-----------+--------+------+--------------------+------+----+-----+-----+------+------+-----+--------+-----------+\n",
      "|PassengerId|Survived|Pclass|                Name|   Sex| Age|SibSp|Parch|Ticket|  Fare|Cabin|Embarked|testOrtrain|\n",
      "+-----------+--------+------+--------------------+------+----+-----+-----+------+------+-----+--------+-----------+\n",
      "|          6|       0|     3|    Moran, Mr. James|  male|null|    0|    0|330877|8.4583|     |       Q|      train|\n",
      "|         18|       1|     2|Williams, Mr. Cha...|  male|null|    0|    0|244373|  13.0|     |       S|      train|\n",
      "|         20|       1|     3|Masselmani, Mrs. ...|female|null|    0|    0|  2649| 7.225|     |       C|      train|\n",
      "|         27|       0|     3|Emir, Mr. Farred ...|  male|null|    0|    0|  2631| 7.225|     |       C|      train|\n",
      "|         29|       1|     3|\"O'Dwyer, Miss. E...|female|null|    0|    0|330959|7.8792|     |       Q|      train|\n",
      "+-----------+--------+------+--------------------+------+----+-----+-----+------+------+-----+--------+-----------+\n",
      "only showing top 5 rows\n",
      "\n",
      "None\n"
     ]
    }
   ],
   "source": [
    "print df.filter(\"Age is NULL\").show(5)"
   ]
  },
  {
   "cell_type": "code",
   "execution_count": 74,
   "metadata": {},
   "outputs": [],
   "source": [
    "from pyspark.sql import functions as F\n",
    "\n",
    "avgAge=df.agg(F.avg(df['Age']).alias('meanAge')).collect()\n",
    "avgFare=df.agg(F.avg(df['Fare']).alias('meanFare')).collect()"
   ]
  },
  {
   "cell_type": "code",
   "execution_count": 75,
   "metadata": {},
   "outputs": [
    {
     "name": "stdout",
     "output_type": "stream",
     "text": [
      "29.8811376673\n",
      "33.2954792813\n"
     ]
    }
   ],
   "source": [
    "print avgAge[0]['meanAge']\n",
    "print avgFare[0]['meanFare']"
   ]
  },
  {
   "cell_type": "code",
   "execution_count": 76,
   "metadata": {},
   "outputs": [
    {
     "name": "stdout",
     "output_type": "stream",
     "text": [
      "Row(avg(Age)=29.881137667304014)\n",
      "Row(avg(Fare)=33.29547928134553)\n"
     ]
    }
   ],
   "source": [
    "print df.groupBy().mean('Age').first()\n",
    "print df.groupBy().mean('Fare').first()"
   ]
  },
  {
   "cell_type": "code",
   "execution_count": 77,
   "metadata": {},
   "outputs": [
    {
     "name": "stdout",
     "output_type": "stream",
     "text": [
      "+-------+------------------+\n",
      "|summary|               Age|\n",
      "+-------+------------------+\n",
      "|  count|              1046|\n",
      "|   mean|29.881137667304014|\n",
      "| stddev| 14.41349321127132|\n",
      "|    min|              0.17|\n",
      "|    max|              80.0|\n",
      "+-------+------------------+\n",
      "\n"
     ]
    }
   ],
   "source": [
    "df.describe(['Age']).show()"
   ]
  },
  {
   "cell_type": "markdown",
   "metadata": {},
   "source": [
    "### 결측값 대치하기"
   ]
  },
  {
   "cell_type": "code",
   "execution_count": 78,
   "metadata": {},
   "outputs": [],
   "source": [
    "from pyspark.sql.functions import when,isnull\n",
    "df=df.withColumn(\"Age\", when(isnull(df['Age']), avgAge[0]['meanAge']).otherwise(df.Age))\n",
    "df=df.withColumn(\"Fare\", when(isnull(df['Fare']), avgFare[0]['meanFare']).otherwise(df.Fare))"
   ]
  },
  {
   "cell_type": "markdown",
   "metadata": {},
   "source": [
    "### outlier"
   ]
  },
  {
   "cell_type": "code",
   "execution_count": 79,
   "metadata": {},
   "outputs": [
    {
     "name": "stdout",
     "output_type": "stream",
     "text": [
      "[22.0, 35.0]\n"
     ]
    }
   ],
   "source": [
    "quantiles=df.stat.approxQuantile('Age', [0.25,0.75], 0.0 )\n",
    "print quantiles"
   ]
  },
  {
   "cell_type": "code",
   "execution_count": 80,
   "metadata": {},
   "outputs": [
    {
     "name": "stdout",
     "output_type": "stream",
     "text": [
      "7.05 61.0\n"
     ]
    }
   ],
   "source": [
    "mid50 = quantiles[1]-quantiles[0]\n",
    "lower = quantiles[0] - 1.15*mid50\n",
    "upper = quantiles[1] + 2.0*mid50\n",
    "print lower, upper"
   ]
  },
  {
   "cell_type": "code",
   "execution_count": 81,
   "metadata": {},
   "outputs": [
    {
     "name": "stdout",
     "output_type": "stream",
     "text": [
      "+-----------+--------+------+--------------------+------+---+-----+-----+-------+------+-----+--------+-----------+\n",
      "|PassengerId|Survived|Pclass|                Name|   Sex|Age|SibSp|Parch| Ticket|  Fare|Cabin|Embarked|testOrtrain|\n",
      "+-----------+--------+------+--------------------+------+---+-----+-----+-------+------+-----+--------+-----------+\n",
      "|          8|       0|     3|Palsson, Master. ...|  male|2.0|    3|    1| 349909|21.075|     |       S|      train|\n",
      "|         11|       1|     3|Sandstrom, Miss. ...|female|4.0|    1|    1|PP 9549|  16.7|   G6|       S|      train|\n",
      "|         17|       0|     3|Rice, Master. Eugene|  male|2.0|    4|    1| 382652|29.125|     |       Q|      train|\n",
      "+-----------+--------+------+--------------------+------+---+-----+-----+-------+------+-----+--------+-----------+\n",
      "only showing top 3 rows\n",
      "\n"
     ]
    }
   ],
   "source": [
    "df.filter((df.Age<lower) | (df.Age>upper)).show(3,truncate=True)"
   ]
  },
  {
   "cell_type": "markdown",
   "metadata": {},
   "source": [
    "## 정규식"
   ]
  },
  {
   "cell_type": "code",
   "execution_count": 82,
   "metadata": {},
   "outputs": [],
   "source": [
    "import re\n",
    "def getTitle(name):\n",
    "    title=None\n",
    "    if re.search(\".*Mr\\..*\", name):\n",
    "        title=\"male\"\n",
    "    elif re.search(\".*[Miss|Mrs|Ms]\\..*\", name):\n",
    "        title=\"female\"\n",
    "    return title"
   ]
  },
  {
   "cell_type": "code",
   "execution_count": 83,
   "metadata": {},
   "outputs": [
    {
     "name": "stdout",
     "output_type": "stream",
     "text": [
      "male\n",
      "female\n",
      "female\n",
      "female\n",
      "None\n"
     ]
    }
   ],
   "source": [
    "names=[\"Braund, Mr. Owen Harris\",\n",
    "       \"Cumings, Mrs. John Bradley (Florence Briggs Thayer)\",\n",
    "       \"Heikkinen, Miss. Laina\",\n",
    "       \"Ms.hello\",\n",
    "       \"No title\"]\n",
    "for n in names:\n",
    "    print getTitle(n)"
   ]
  },
  {
   "cell_type": "code",
   "execution_count": 84,
   "metadata": {},
   "outputs": [],
   "source": [
    "from pyspark.sql.functions import udf\n",
    "from pyspark.sql.types import StringType\n",
    "\n",
    "getTitleUdf = udf(getTitle, StringType())\n",
    "df = df.withColumn('Title', getTitleUdf(df['Name']))"
   ]
  },
  {
   "cell_type": "code",
   "execution_count": 85,
   "metadata": {},
   "outputs": [
    {
     "name": "stdout",
     "output_type": "stream",
     "text": [
      "+-----------+--------------------------------------------+------+------+\n",
      "|testOrtrain|Name                                        |Title |Sex   |\n",
      "+-----------+--------------------------------------------+------+------+\n",
      "|test       |Kelly, Mr. James                            |male  |male  |\n",
      "|test       |Wilkes, Mrs. James (Ellen Needs)            |female|female|\n",
      "|test       |Myles, Mr. Thomas Francis                   |male  |male  |\n",
      "|test       |Wirz, Mr. Albert                            |male  |male  |\n",
      "|test       |Hirvonen, Mrs. Alexander (Helga E Lindqvist)|female|female|\n",
      "|test       |Svensson, Mr. Johan Cervin                  |male  |male  |\n",
      "|test       |Connolly, Miss. Kate                        |female|female|\n",
      "|test       |Caldwell, Mr. Albert Francis                |male  |male  |\n",
      "|test       |Abrahim, Mrs. Joseph (Sophie Halaut Easu)   |female|female|\n",
      "|test       |Davies, Mr. John Samuel                     |male  |male  |\n",
      "+-----------+--------------------------------------------+------+------+\n",
      "only showing top 10 rows\n",
      "\n"
     ]
    }
   ],
   "source": [
    " df.select('testOrtrain','Name','Title','Sex')\\\n",
    "    .filter(df['testOrtrain']=='test')\\\n",
    "    .show(10,truncate=False)"
   ]
  },
  {
   "cell_type": "code",
   "execution_count": 86,
   "metadata": {},
   "outputs": [],
   "source": [
    "df=df.withColumn(\"SurvivedD\",_trainDf['Survived']\\\n",
    "    .cast(\"double\"))\\\n",
    "    .drop('Survived')"
   ]
  },
  {
   "cell_type": "code",
   "execution_count": 87,
   "metadata": {},
   "outputs": [],
   "source": [
    "from pyspark.ml.feature import StringIndexer\n",
    "from pyspark.ml import Pipeline\n",
    "#from pyspark.ml.linalg import Vectors\n",
    "from pyspark.ml.feature import VectorAssembler\n",
    "\n",
    "SexIndexer = StringIndexer(inputCol=\"Sex\", outputCol=\"SexI\")\n",
    "EmbarkedIndexer = StringIndexer(inputCol=\"Embarked\", outputCol=\"EmbarkedI\")"
   ]
  },
  {
   "cell_type": "code",
   "execution_count": 88,
   "metadata": {},
   "outputs": [],
   "source": [
    "va = VectorAssembler(inputCols=[\"Pclass\",\"SexI\",\"Age\",\"SibSp\",\"Parch\",\\\n",
    "                                \"Fare\",\"EmbarkedI\"],\\\n",
    "                     outputCol=\"features\")"
   ]
  },
  {
   "cell_type": "code",
   "execution_count": 89,
   "metadata": {},
   "outputs": [],
   "source": [
    "pipeline = Pipeline(stages=[SexIndexer,EmbarkedIndexer,va])\n",
    "model = pipeline.fit(df)"
   ]
  },
  {
   "cell_type": "code",
   "execution_count": 90,
   "metadata": {},
   "outputs": [
    {
     "name": "stdout",
     "output_type": "stream",
     "text": [
      "+---------+--------------------+\n",
      "|SurvivedD|            features|\n",
      "+---------+--------------------+\n",
      "|      0.0|[3.0,0.0,22.0,1.0...|\n",
      "|      1.0|[1.0,1.0,38.0,1.0...|\n",
      "|      1.0|[3.0,1.0,26.0,0.0...|\n",
      "|      1.0|[1.0,1.0,35.0,1.0...|\n",
      "|      0.0|(7,[0,2,5],[3.0,3...|\n",
      "|      0.0|[3.0,0.0,29.88113...|\n",
      "|      0.0|(7,[0,2,5],[1.0,5...|\n",
      "|      0.0|[3.0,0.0,2.0,3.0,...|\n",
      "|      1.0|[3.0,1.0,27.0,0.0...|\n",
      "|      1.0|[2.0,1.0,14.0,1.0...|\n",
      "+---------+--------------------+\n",
      "only showing top 10 rows\n",
      "\n"
     ]
    }
   ],
   "source": [
    "myDf = model.transform(df)\n",
    "myDf.select('SurvivedD','features').show(10)"
   ]
  },
  {
   "cell_type": "code",
   "execution_count": 91,
   "metadata": {},
   "outputs": [],
   "source": [
    "train=myDf.filter(myDf['testOrtrain']=='train')\n",
    "testDf=myDf.filter(myDf['testOrtrain']=='test')"
   ]
  },
  {
   "cell_type": "code",
   "execution_count": 92,
   "metadata": {},
   "outputs": [],
   "source": [
    "trainDf,validateDf = train.randomSplit([0.7,0.3],seed=11)"
   ]
  },
  {
   "cell_type": "code",
   "execution_count": 93,
   "metadata": {},
   "outputs": [],
   "source": [
    "from pyspark.ml.classification import LogisticRegression\n",
    " \n",
    "# regPara: lasso regularisation parameter (L1)\n",
    "lr = LogisticRegression().\\\n",
    "    setLabelCol('SurvivedD').\\\n",
    "    setFeaturesCol('features').\\\n",
    "    setRegParam(0.0).\\\n",
    "    setMaxIter(100).\\\n",
    "    setElasticNetParam(0.)"
   ]
  },
  {
   "cell_type": "code",
   "execution_count": 94,
   "metadata": {},
   "outputs": [],
   "source": [
    "lrModel=lr.fit(trainDf)"
   ]
  },
  {
   "cell_type": "code",
   "execution_count": 96,
   "metadata": {},
   "outputs": [],
   "source": [
    "lrDf = lrModel.transform(validateDf)"
   ]
  },
  {
   "cell_type": "code",
   "execution_count": 97,
   "metadata": {},
   "outputs": [
    {
     "name": "stdout",
     "output_type": "stream",
     "text": [
      "+---------+--------------------+--------------------+----------+\n",
      "|SurvivedD|       rawPrediction|         probability|prediction|\n",
      "+---------+--------------------+--------------------+----------+\n",
      "|      1.0|[-0.7209575821080...|[0.32718215168700...|       1.0|\n",
      "|      1.0|[-2.0503227895482...|[0.11401976925515...|       1.0|\n",
      "|      1.0|[-1.9554360708280...|[0.12396181876919...|       1.0|\n",
      "|      1.0|[-1.1467078201107...|[0.24109092679847...|       1.0|\n",
      "|      1.0|[-1.4698503211520...|[0.18696536548151...|       1.0|\n",
      "|      0.0|[1.69472254018706...|[0.84484421073581...|       0.0|\n",
      "|      1.0|[1.26032179504787...|[0.77908149803135...|       0.0|\n",
      "|      1.0|[-1.4501313540239...|[0.18998135132665...|       1.0|\n",
      "|      1.0|[-0.0619658876835...|[0.48451348315217...|       1.0|\n",
      "|      0.0|[2.56037173163627...|[0.92826721424349...|       0.0|\n",
      "|      1.0|[-0.8920008140330...|[0.29069710229074...|       1.0|\n",
      "|      0.0|[-1.2464028691324...|[0.22332344045916...|       1.0|\n",
      "|      0.0|[1.95032687007954...|[0.87548227929311...|       0.0|\n",
      "|      1.0|[-0.8497256926713...|[0.29949040291388...|       1.0|\n",
      "|      0.0|[-0.6189589760433...|[0.35001825308221...|       1.0|\n",
      "|      0.0|[1.73615921896138...|[0.85019855753063...|       0.0|\n",
      "|      0.0|[3.56369823671166...|[0.97244684148754...|       0.0|\n",
      "|      0.0|[0.86690971886304...|[0.70410226817396...|       0.0|\n",
      "|      1.0|[-1.5870055403151...|[0.16980561361907...|       1.0|\n",
      "|      1.0|[0.86052411729901...|[0.70277014583679...|       0.0|\n",
      "+---------+--------------------+--------------------+----------+\n",
      "only showing top 20 rows\n",
      "\n"
     ]
    }
   ],
   "source": [
    "lrDf.select('SurvivedD','rawPrediction','probability','prediction').show()"
   ]
  },
  {
   "cell_type": "code",
   "execution_count": 98,
   "metadata": {},
   "outputs": [],
   "source": [
    "from pyspark.ml.evaluation import BinaryClassificationEvaluator\n",
    "\n",
    "evaluator = BinaryClassificationEvaluator(rawPredictionCol = 'prediction',\\\n",
    "                                          labelCol='SurvivedD')"
   ]
  },
  {
   "cell_type": "code",
   "execution_count": 99,
   "metadata": {},
   "outputs": [
    {
     "data": {
      "text/plain": [
       "0.7919513103962241"
      ]
     },
     "execution_count": 99,
     "metadata": {},
     "output_type": "execute_result"
    }
   ],
   "source": [
    "evaluator.evaluate(lrDf)"
   ]
  }
 ],
 "metadata": {
  "kernelspec": {
   "display_name": "Python 2",
   "language": "python",
   "name": "python2"
  },
  "language_info": {
   "codemirror_mode": {
    "name": "ipython",
    "version": 2
   },
   "file_extension": ".py",
   "mimetype": "text/x-python",
   "name": "python",
   "nbconvert_exporter": "python",
   "pygments_lexer": "ipython2",
   "version": "2.7.15+"
  }
 },
 "nbformat": 4,
 "nbformat_minor": 2
}
