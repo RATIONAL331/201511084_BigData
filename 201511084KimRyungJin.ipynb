{
 "cells": [
  {
   "cell_type": "code",
   "execution_count": 1,
   "metadata": {},
   "outputs": [],
   "source": [
    "import os\n",
    "import sys\n",
    "\n",
    "home=os.path.expanduser(\"~\")\n",
    "os.environ[\"SPARK_HOME\"]=os.path.join(home, 'spark-2.0.0-bin-hadoop2.7')\n",
    "os.environ[\"PYLIB\"]=os.path.join(os.environ[\"SPARK_HOME\"],'python','lib')\n",
    "sys.path.insert(0,os.path.join(os.environ[\"PYLIB\"],'py4j-0.10.1-src.zip'))\n",
    "sys.path.insert(0,os.path.join(os.environ[\"PYLIB\"],'pyspark.zip'))"
   ]
  },
  {
   "cell_type": "code",
   "execution_count": 2,
   "metadata": {},
   "outputs": [],
   "source": [
    "import pyspark\n",
    "myConf=pyspark.SparkConf()\n",
    "spark = pyspark.sql.SparkSession.builder.master(\"local\").appName(\"myApp\").config(conf=myConf).getOrCreate()"
   ]
  },
  {
   "cell_type": "markdown",
   "metadata": {},
   "source": [
    "# 문제 1"
   ]
  },
  {
   "cell_type": "code",
   "execution_count": null,
   "metadata": {},
   "outputs": [],
   "source": []
  },
  {
   "cell_type": "markdown",
   "metadata": {},
   "source": [
    "# 문제 2"
   ]
  },
  {
   "cell_type": "code",
   "execution_count": 122,
   "metadata": {
    "scrolled": false
   },
   "outputs": [
    {
     "name": "stdout",
     "output_type": "stream",
     "text": [
      "              AGE         SEX         BMI          BP          S1          S2  \\\n",
      "count  442.000000  442.000000  442.000000  442.000000  442.000000  442.000000   \n",
      "mean    48.518100    1.468326   26.375792   94.647014  189.140271  115.439140   \n",
      "std     13.109028    0.499561    4.418122   13.831283   34.608052   30.413081   \n",
      "min     19.000000    1.000000   18.000000   62.000000   97.000000   41.600000   \n",
      "25%     38.250000    1.000000   23.200000   84.000000  164.250000   96.050000   \n",
      "50%     50.000000    1.000000   25.700000   93.000000  186.000000  113.000000   \n",
      "75%     59.000000    2.000000   29.275000  105.000000  209.750000  134.500000   \n",
      "max     79.000000    2.000000   42.200000  133.000000  301.000000  242.400000   \n",
      "\n",
      "               S3          S4          S5          S6           Y  \n",
      "count  442.000000  442.000000  442.000000  442.000000  442.000000  \n",
      "mean    49.788462    4.070249    4.641411   91.260181  152.133484  \n",
      "std     12.934202    1.290450    0.522391   11.496335   77.093005  \n",
      "min     22.000000    2.000000    3.258100   58.000000   25.000000  \n",
      "25%     40.250000    3.000000    4.276700   83.250000   87.000000  \n",
      "50%     48.000000    4.000000    4.620050   91.000000  140.500000  \n",
      "75%     57.750000    5.000000    4.997200   98.000000  211.500000  \n",
      "max     99.000000    9.090000    6.107000  124.000000  346.000000  \n",
      "\n",
      "\n",
      "   AGE  SEX   BMI     BP   S1     S2    S3   S4      S5  S6    Y  male  female\n",
      "0   59    2  32.1  101.0  157   93.2  38.0  4.0  4.8598  87  151     0       1\n",
      "1   48    1  21.6   87.0  183  103.2  70.0  3.0  3.8918  69   75     1       0\n",
      "2   72    2  30.5   93.0  156   93.6  41.0  4.0  4.6728  85  141     0       1\n",
      "3   24    1  25.3   84.0  198  131.4  40.0  5.0  4.8903  89  206     1       0\n",
      "4   50    1  23.0  101.0  192  125.4  52.0  4.0  4.2905  80  135     1       0\n",
      "\n",
      "\n",
      "+---+---+----+-----+---+-----+----+----+------+---+---+----+------+--------------------+\n",
      "|AGE|SEX| BMI|   BP| S1|   S2|  S3|  S4|    S5| S6|  Y|male|female|            features|\n",
      "+---+---+----+-----+---+-----+----+----+------+---+---+----+------+--------------------+\n",
      "| 59|  2|32.1|101.0|157| 93.2|38.0| 4.0|4.8598| 87|151|   0|     1|[59.0,32.1,101.0,...|\n",
      "| 48|  1|21.6| 87.0|183|103.2|70.0| 3.0|3.8918| 69| 75|   1|     0|[48.0,21.6,87.0,1...|\n",
      "| 72|  2|30.5| 93.0|156| 93.6|41.0| 4.0|4.6728| 85|141|   0|     1|[72.0,30.5,93.0,1...|\n",
      "| 24|  1|25.3| 84.0|198|131.4|40.0| 5.0|4.8903| 89|206|   1|     0|[24.0,25.3,84.0,1...|\n",
      "| 50|  1|23.0|101.0|192|125.4|52.0| 4.0|4.2905| 80|135|   1|     0|[50.0,23.0,101.0,...|\n",
      "| 23|  1|22.6| 89.0|139| 64.8|61.0| 2.0|4.1897| 68| 97|   1|     0|[23.0,22.6,89.0,1...|\n",
      "| 36|  2|22.0| 90.0|160| 99.6|50.0| 3.0|3.9512| 82|138|   0|     1|[36.0,22.0,90.0,1...|\n",
      "| 66|  2|26.2|114.0|255|185.0|56.0|4.55|4.2485| 92| 63|   0|     1|[66.0,26.2,114.0,...|\n",
      "| 60|  2|32.1| 83.0|179|119.4|42.0| 4.0|4.4773| 94|110|   0|     1|[60.0,32.1,83.0,1...|\n",
      "| 29|  1|30.0| 85.0|180| 93.4|43.0| 4.0|5.3845| 88|310|   1|     0|[29.0,30.0,85.0,1...|\n",
      "+---+---+----+-----+---+-----+----+----+------+---+---+----+------+--------------------+\n",
      "only showing top 10 rows\n",
      "\n",
      "None\n"
     ]
    }
   ],
   "source": [
    "import pandas as pd\n",
    "colname=['AGE', 'SEX', 'BMI', 'BP','S1', 'S2', 'S3', 'S4', 'S5', 'S6', 'Y']\n",
    "\n",
    "df=pd.read_csv(os.path.join('data','diabetes.tab.txt'), delimiter='\\t')\n",
    "print df.describe()\n",
    "df['male'] = (df['SEX']==1).astype(int)\n",
    "df['female'] = (df['SEX']==2).astype(int)\n",
    "print '\\n'\n",
    "print df.head()\n",
    "\n",
    "ddf= spark.createDataFrame(df)\n",
    "\n",
    "from pyspark.ml.feature import VectorAssembler\n",
    "vectorAssembler = VectorAssembler(inputCols = ['AGE','BMI','BP','S1','S2','S3','S4','S5','S6', 'male', 'female'],outputCol='features')\n",
    "dfFeatures = vectorAssembler.transform(ddf)\n",
    "print '\\n'\n",
    "\n",
    "print dfFeatures.show(10)\n",
    "\n",
    "from pyspark.ml.regression import LinearRegression\n",
    "lr = LinearRegression(featuresCol='features', labelCol='Y', maxIter=10, regParam=0.3, elasticNetParam=0.8)\n",
    "#lr_model = lr.fit(dfFeatures)"
   ]
  },
  {
   "cell_type": "markdown",
   "metadata": {},
   "source": [
    "# 문제 3"
   ]
  },
  {
   "cell_type": "code",
   "execution_count": 115,
   "metadata": {},
   "outputs": [
    {
     "name": "stdout",
     "output_type": "stream",
     "text": [
      "Optimization terminated successfully.\n",
      "         Current function value: 0.547344\n",
      "         Iterations 7\n",
      "                           Logit Regression Results                           \n",
      "==============================================================================\n",
      "Dep. Variable:                     _2   No. Observations:                   28\n",
      "Model:                          Logit   Df Residuals:                       26\n",
      "Method:                           MLE   Df Model:                            1\n",
      "Date:                Wed, 18 Dec 2019   Pseudo R-squ.:                  0.1284\n",
      "Time:                        16:10:28   Log-Likelihood:                -15.326\n",
      "converged:                       True   LL-Null:                       -17.582\n",
      "Covariance Type:            nonrobust   LLR p-value:                   0.03363\n",
      "==============================================================================\n",
      "                 coef    std err          z      P>|z|      [0.025      0.975]\n",
      "------------------------------------------------------------------------------\n",
      "Intercept     -1.6343      1.349     -1.212      0.226      -4.277       1.009\n",
      "_1             5.0917      2.992      1.702      0.089      -0.772      10.955\n",
      "==============================================================================\n"
     ]
    },
    {
     "data": {
      "image/png": "[encoded data removed]",
      "text/plain": [
       "<Figure size 432x288 with 1 Axes>"
      ]
     },
     "metadata": {
      "needs_background": "light"
     },
     "output_type": "display_data"
    }
   ],
   "source": [
    "import pandas as pd\n",
    "\n",
    "rdd=spark.sparkContext.textFile(os.path.join('data','ds9_xy.txt'))\n",
    "myRdd=rdd.map(lambda line:[float(x) for x in line.split()])\n",
    "\n",
    "pandas = myRdd.toDF().toPandas()\n",
    "\n",
    "from patsy import dmatrices\n",
    "y, X = dmatrices('_2 ~ _1', pandas, return_type = 'dataframe')\n",
    "\n",
    "import statsmodels.discrete.discrete_model as sm\n",
    "\n",
    "logit = sm.Logit(y,X)\n",
    "result = logit.fit()\n",
    "print result.summary()\n",
    "\n",
    "w0, w1 = result.params\n",
    "import numpy as np\n",
    "import matplotlib.pyplot as plt\n",
    "\n",
    "plt.plot(X, y, 'go')\n",
    "plt.plot(X, w0 + w1* X, 'b-')\n",
    "plt.plot(X, 1/(1+np.exp(-(w0+w1*X))),'r-')\n",
    "plt.show()\n"
   ]
  }
 ],
 "metadata": {
  "kernelspec": {
   "display_name": "Python 2",
   "language": "python",
   "name": "python2"
  },
  "language_info": {
   "codemirror_mode": {
    "name": "ipython",
    "version": 2
   },
   "file_extension": ".py",
   "mimetype": "text/x-python",
   "name": "python",
   "nbconvert_exporter": "python",
   "pygments_lexer": "ipython2",
   "version": "2.7.15+"
  }
 },
 "nbformat": 4,
 "nbformat_minor": 2
}
