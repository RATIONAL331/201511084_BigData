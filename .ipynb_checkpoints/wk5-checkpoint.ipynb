{
 "cells": [
  {
   "cell_type": "markdown",
   "metadata": {},
   "source": [
    "# 201511084 - 김령진"
   ]
  },
  {
   "cell_type": "code",
   "execution_count": 1,
   "metadata": {},
   "outputs": [],
   "source": [
    "import os\n",
    "import sys\n",
    "home=os.path.expanduser(\"~\")\n",
    "os.environ[\"SPARK_HOME\"]=os.path.join(home, 'spark-2.0.0-bin-hadoop2.7')\n",
    "os.environ[\"PYLIB\"]=os.path.join(os.environ[\"SPARK_HOME\"],'python','lib')\n",
    "sys.path.insert(0,os.path.join(os.environ[\"PYLIB\"],'py4j-0.10.1-src.zip'))\n",
    "# python과 자바를 연결하는 파일을 경로 설정에 집어 넣는다. # pip install py4j\n",
    "sys.path.insert(0,os.path.join(os.environ[\"PYLIB\"],'pyspark.zip'))\n",
    "# pyspark.zip을 경로 설정에 집어 넣는다. # pip install pyspark"
   ]
  },
  {
   "cell_type": "code",
   "execution_count": 2,
   "metadata": {},
   "outputs": [],
   "source": [
    "import pyspark\n",
    "myConf=pyspark.SparkConf()\n",
    "spark = pyspark.sql.SparkSession.builder.master(\"local\").appName(\"myApp\").config(conf=myConf).getOrCreate()"
   ]
  },
  {
   "cell_type": "markdown",
   "metadata": {},
   "source": [
    "# 과제 1 - 단어 수 세기"
   ]
  },
  {
   "cell_type": "code",
   "execution_count": 3,
   "metadata": {},
   "outputs": [
    {
     "name": "stdout",
     "output_type": "stream",
     "text": [
      "'데이터' (이)라는 단어가 총 21번 등장하였습니다.\n",
      "'데이터를' (이)라는 단어가 총 18번 등장하였습니다.\n",
      "'빅' (이)라는 단어가 총 14번 등장하였습니다.\n",
      "'있다.' (이)라는 단어가 총 9번 등장하였습니다.\n",
      "'데이터의' (이)라는 단어가 총 8번 등장하였습니다.\n",
      "'미국' (이)라는 단어가 총 7번 등장하였습니다.\n",
      "'통해' (이)라는 단어가 총 7번 등장하였습니다.\n",
      "'대한' (이)라는 단어가 총 6번 등장하였습니다.\n",
      "'선거' (이)라는 단어가 총 6번 등장하였습니다.\n",
      "'유권자' (이)라는 단어가 총 6번 등장하였습니다.\n",
      "'빅데이터' (이)라는 단어가 총 6번 등장하였습니다.\n",
      "'위한' (이)라는 단어가 총 5번 등장하였습니다.\n",
      "'활용한' (이)라는 단어가 총 5번 등장하였습니다.\n",
      "'소셜' (이)라는 단어가 총 5번 등장하였습니다.\n",
      "'있는' (이)라는 단어가 총 5번 등장하였습니다.\n",
      "'대한민국' (이)라는 단어가 총 5번 등장하였습니다.\n",
      "'의료' (이)라는 단어가 총 4번 등장하였습니다.\n",
      "'구글' (이)라는 단어가 총 4번 등장하였습니다.\n",
      "'리그' (이)라는 단어가 총 4번 등장하였습니다.\n",
      "'맞춤형' (이)라는 단어가 총 4번 등장하였습니다.\n",
      "'방대한' (이)라는 단어가 총 4번 등장하였습니다.\n",
      "'SNS' (이)라는 단어가 총 4번 등장하였습니다.\n",
      "'자동' (이)라는 단어가 총 4번 등장하였습니다.\n",
      "'같은' (이)라는 단어가 총 4번 등장하였습니다.\n",
      "'분석' (이)라는 단어가 총 4번 등장하였습니다.\n",
      "'비정형' (이)라는 단어가 총 4번 등장하였습니다.\n",
      "'번역' (이)라는 단어가 총 4번 등장하였습니다.\n",
      "'독일' (이)라는 단어가 총 4번 등장하였습니다.\n",
      "'오바마' (이)라는 단어가 총 4번 등장하였습니다.\n",
      "'분석해' (이)라는 단어가 총 3번 등장하였습니다.\n",
      "'제19대' (이)라는 단어가 총 3번 등장하였습니다.\n",
      "'프로그램' (이)라는 단어가 총 3번 등장하였습니다.\n",
      "'있어' (이)라는 단어가 총 3번 등장하였습니다.\n",
      "'건의' (이)라는 단어가 총 3번 등장하였습니다.\n",
      "'방식으로' (이)라는 단어가 총 3번 등장하였습니다.\n",
      "'스토리지' (이)라는 단어가 총 3번 등장하였습니다.\n",
      "'빅데이터를' (이)라는 단어가 총 3번 등장하였습니다.\n",
      "'것으로' (이)라는 단어가 총 3번 등장하였습니다.\n",
      "'IBM의' (이)라는 단어가 총 3번 등장하였습니다.\n",
      "'네트워크' (이)라는 단어가 총 3번 등장하였습니다.\n",
      "'최근' (이)라는 단어가 총 3번 등장하였습니다.\n",
      "'데이터는' (이)라는 단어가 총 3번 등장하였습니다.\n",
      "'빌리' (이)라는 단어가 총 3번 등장하였습니다.\n",
      "'분석,' (이)라는 단어가 총 3번 등장하였습니다.\n",
      "'활용을' (이)라는 단어가 총 3번 등장하였습니다.\n",
      "'매치' (이)라는 단어가 총 3번 등장하였습니다.\n",
      "'머니볼' (이)라는 단어가 총 3번 등장하였습니다.\n",
      "'효과를' (이)라는 단어가 총 3번 등장하였습니다.\n",
      "'대통령' (이)라는 단어가 총 3번 등장하였습니다.\n",
      "'더욱' (이)라는 단어가 총 3번 등장하였습니다.\n",
      "'시스템' (이)라는 단어가 총 3번 등장하였습니다.\n",
      "'선수의' (이)라는 단어가 총 3번 등장하였습니다.\n",
      "'이러한' (이)라는 단어가 총 3번 등장하였습니다.\n",
      "'아니라' (이)라는 단어가 총 3번 등장하였습니다.\n",
      "'결과를' (이)라는 단어가 총 3번 등장하였습니다.\n",
      "'비용' (이)라는 단어가 총 3번 등장하였습니다.\n"
     ]
    }
   ],
   "source": [
    "myRdd3 = spark.sparkContext.textFile(os.path.join(\"data\", \"ds_bigdata_wiki.txt\"))\n",
    "\n",
    "stopwords = [u'및','big','is','am','are','the','for','a' u'볼', u'때', u'때,', u'이'\\\n",
    "             ,u'간의', u'등', u'수', u'등의', u'의', u'간', u'할', u'약', u'좀', u'더' \\\n",
    "             , u'하는', u'등을', u'더', u'한', u'/', \"\"]\n",
    "\n",
    "wc3_count = myRdd3\\\n",
    "    .flatMap(lambda x : x.split(\" \"))\\\n",
    "    .filter(lambda x : x.lower() not in stopwords)\\\n",
    "    .map(lambda x : (x, 1))\\\n",
    "    .reduceByKey(lambda x, y : x + y)\\\n",
    "    .map(lambda x : (x[1], x[0]))\\\n",
    "    .sortByKey(False)\\\n",
    "    .collect()\n",
    "\n",
    "for i in wc3_count:\n",
    "    if(i[0] >= 3):\n",
    "        print u\"\\'{0}\\' (이)라는 단어가 총 {1}번 등장하였습니다.\".format(i[1], i[0])\n",
    "    else:\n",
    "        break;"
   ]
  }
 ],
 "metadata": {
  "kernelspec": {
   "display_name": "Python 2",
   "language": "python",
   "name": "python2"
  },
  "language_info": {
   "codemirror_mode": {
    "name": "ipython",
    "version": 2
   },
   "file_extension": ".py",
   "mimetype": "text/x-python",
   "name": "python",
   "nbconvert_exporter": "python",
   "pygments_lexer": "ipython2",
   "version": "2.7.15+"
  }
 },
 "nbformat": 4,
 "nbformat_minor": 2
}
